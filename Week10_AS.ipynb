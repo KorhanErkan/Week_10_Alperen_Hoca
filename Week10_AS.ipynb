{
  "nbformat": 4,
  "nbformat_minor": 0,
  "metadata": {
    "colab": {
      "provenance": [],
      "authorship_tag": "ABX9TyMKCOqOo4ON2xpzNTwZ5uXI",
      "include_colab_link": true
    },
    "kernelspec": {
      "name": "python3",
      "display_name": "Python 3"
    },
    "language_info": {
      "name": "python"
    },
    "accelerator": "GPU",
    "gpuClass": "standard"
  },
  "cells": [
    {
      "cell_type": "markdown",
      "metadata": {
        "id": "view-in-github",
        "colab_type": "text"
      },
      "source": [
        "<a href=\"https://colab.research.google.com/github/KorhanErkan/Week_10_Alperen_Hoca/blob/master/Week10_AS.ipynb\" target=\"_parent\"><img src=\"https://colab.research.google.com/assets/colab-badge.svg\" alt=\"Open In Colab\"/></a>"
      ]
    },
    {
      "cell_type": "markdown",
      "source": [
        "Ödev 1:\n",
        "Minst handwritten datasını kullanarak bir adet CNN ağ yapısı geliştiriniz.\n",
        "Ağ yapısı:\n",
        "Conv2D(32,(3,3))\n",
        "relu activation\n",
        "Conv2D(64,(3,3))\n",
        "relu activation\n",
        "Maxpooling ((2,2))\n",
        "Conv2D(128,(3,3))\n",
        "relu activation\n",
        "Conv2D(64,(3,3))\n",
        "relu activation\n",
        "Flatten()\n",
        "Dense 256\n",
        "dropout 0.25\n",
        "dense 128\n",
        "dropout 0.3\n",
        "dense layer for last (Buradaki bilgileri sizden bekliyorum.)\n",
        "\n",
        "10 epoch olacak şekilde çalıştırmanızı isitiyorum.\n",
        "\n",
        "daha sonrasında bathc_size 32 64 128 256 512 1024 olacak şekilde deneyiniz. Accuracy değerlerini ve çalışma süreleriniz karşılaştırnız. Bunu plot olarak çizdiriniz"
      ],
      "metadata": {
        "id": "tAjsiSK4MCpS"
      }
    },
    {
      "cell_type": "code",
      "execution_count": null,
      "metadata": {
        "id": "EJd_U-88Lsf0"
      },
      "outputs": [],
      "source": [
        "from keras.datasets import mnist"
      ]
    },
    {
      "cell_type": "code",
      "source": [
        "(x_train, y_train),(x_test,y_test) = mnist.load_data()"
      ],
      "metadata": {
        "id": "eoOBIeJxMHMZ"
      },
      "execution_count": null,
      "outputs": []
    },
    {
      "cell_type": "code",
      "source": [
        "from keras.utils.data_utils import random\n",
        "import cv2\n",
        "import numpy as np\n",
        "from google.colab.patches import cv2_imshow\n",
        "\n",
        "# 6 tane imaj \n",
        "# random seçicez\n",
        "# göstermesi\n",
        "\n",
        "for i in range(0,6):\n",
        "\n",
        "  rand_num = random.randint(0,len(x_train))\n",
        "  img = x_train[rand_num]\n",
        "  cv2_imshow(img)\n"
      ],
      "metadata": {
        "colab": {
          "base_uri": "https://localhost:8080/",
          "height": 185
        },
        "id": "1v70-PO-RnOD",
        "outputId": "fe7681a8-b691-42ed-a1fb-7df5d254cd48"
      },
      "execution_count": null,
      "outputs": [
        {
          "output_type": "display_data",
          "data": {
            "text/plain": [
              "<PIL.Image.Image image mode=L size=28x28 at 0x7FF2032477D0>"
            ],
            "image/png": "[encoded data removed]"
          },
          "metadata": {}
        },
        {
          "output_type": "display_data",
          "data": {
            "text/plain": [
              "<PIL.Image.Image image mode=L size=28x28 at 0x7FF203247350>"
            ],
            "image/png": "[encoded data removed]"
          },
          "metadata": {}
        },
        {
          "output_type": "display_data",
          "data": {
            "text/plain": [
              "<PIL.Image.Image image mode=L size=28x28 at 0x7FF203247250>"
            ],
            "image/png": "[encoded data removed]"
          },
          "metadata": {}
        },
        {
          "output_type": "display_data",
          "data": {
            "text/plain": [
              "<PIL.Image.Image image mode=L size=28x28 at 0x7FF2032477D0>"
            ],
            "image/png": "[encoded data removed]"
          },
          "metadata": {}
        },
        {
          "output_type": "display_data",
          "data": {
            "text/plain": [
              "<PIL.Image.Image image mode=L size=28x28 at 0x7FF203247350>"
            ],
            "image/png": "[encoded data removed]"
          },
          "metadata": {}
        },
        {
          "output_type": "display_data",
          "data": {
            "text/plain": [
              "<PIL.Image.Image image mode=L size=28x28 at 0x7FF203247250>"
            ],
            "image/png": "[encoded data removed]"
          },
          "metadata": {}
        }
      ]
    },
    {
      "cell_type": "code",
      "source": [
        "img_rows=x_train[0].shape[0]\n",
        "img_cols=x_train[1].shape[1]"
      ],
      "metadata": {
        "id": "sErZJRqbRo6s"
      },
      "execution_count": null,
      "outputs": []
    },
    {
      "cell_type": "code",
      "source": [
        "x_train=x_train.reshape(len(x_train),img_rows,img_cols,1)\n",
        "x_test=x_test.reshape(len(x_test),img_rows,img_cols,1)"
      ],
      "metadata": {
        "id": "yAsP0rjkRqqZ"
      },
      "execution_count": null,
      "outputs": []
    },
    {
      "cell_type": "code",
      "source": [
        "x_train.shape"
      ],
      "metadata": {
        "colab": {
          "base_uri": "https://localhost:8080/"
        },
        "id": "LXXBYbSMMLKB",
        "outputId": "45324480-84dd-4481-a0e5-8cd54855fb95"
      },
      "execution_count": null,
      "outputs": [
        {
          "output_type": "execute_result",
          "data": {
            "text/plain": [
              "(60000, 28, 28, 1)"
            ]
          },
          "metadata": {},
          "execution_count": 6
        }
      ]
    },
    {
      "cell_type": "code",
      "source": [
        "y_train.shape"
      ],
      "metadata": {
        "colab": {
          "base_uri": "https://localhost:8080/"
        },
        "id": "FkgK4ni4MXjm",
        "outputId": "1ba9885e-f8f4-4770-d3a7-c17da334b0d4"
      },
      "execution_count": null,
      "outputs": [
        {
          "output_type": "execute_result",
          "data": {
            "text/plain": [
              "(60000,)"
            ]
          },
          "metadata": {},
          "execution_count": 7
        }
      ]
    },
    {
      "cell_type": "code",
      "source": [
        "x_test.shape"
      ],
      "metadata": {
        "colab": {
          "base_uri": "https://localhost:8080/"
        },
        "id": "rFrLNoikMaeT",
        "outputId": "bc0d3c9a-773b-4ae3-f64b-12b8f4c4430f"
      },
      "execution_count": null,
      "outputs": [
        {
          "output_type": "execute_result",
          "data": {
            "text/plain": [
              "(10000, 28, 28, 1)"
            ]
          },
          "metadata": {},
          "execution_count": 8
        }
      ]
    },
    {
      "cell_type": "code",
      "source": [
        "x_train=x_train.astype(\"float64\")\n",
        "x_test=x_test.astype(\"float64\")"
      ],
      "metadata": {
        "id": "o-z_r7FvMc4B"
      },
      "execution_count": null,
      "outputs": []
    },
    {
      "cell_type": "code",
      "source": [
        "x_train /= 255\n",
        "x_test /= 255"
      ],
      "metadata": {
        "id": "fIL6uglEM9kl"
      },
      "execution_count": null,
      "outputs": []
    },
    {
      "cell_type": "code",
      "source": [
        "from keras.utils import np_utils\n",
        "y_train=np_utils.to_categorical(y_train)\n",
        "y_test=np_utils.to_categorical(y_test)"
      ],
      "metadata": {
        "id": "LkR3NuCCM-iV"
      },
      "execution_count": null,
      "outputs": []
    },
    {
      "cell_type": "code",
      "source": [
        "import keras\n",
        "from keras.datasets import cifar10\n",
        "from keras.models import Sequential\n",
        "from keras.layers import Flatten, Dense, Activation, Conv2D, MaxPooling2D, Dropout\n",
        "from keras.optimizers import SGD\n",
        "\n",
        "model=Sequential()\n",
        "\n",
        "model.add(Conv2D(32,(3,3),activation = \"relu\",input_shape=(28,28,1)))\n",
        "model.add(Conv2D(64,(3,3),activation = \"relu\"))\n",
        "model.add(MaxPooling2D(pool_size=(2,2)))\n",
        "model.add(Conv2D(128,(3,3),activation = \"relu\"))\n",
        "model.add(Conv2D(64,(3,3),activation = \"relu\"))\n",
        "model.add(Flatten())\n",
        "model.add(Dense(256))\n",
        "model.add(Dropout(0.25))\n",
        "model.add(Dense(128))\n",
        "model.add(Dropout(0.3))\n",
        "\n",
        "\n",
        "model.add(Dense(10, activation = \"sigmoid\")) \n",
        "\n",
        "\n",
        "model.compile(loss = \"binary_crossentropy\", optimizer = 'rmsprop', metrics = [\"accuracy\"])\n",
        "\n",
        "print(model.summary())\n"
      ],
      "metadata": {
        "colab": {
          "base_uri": "https://localhost:8080/"
        },
        "id": "tHApRSwsNEAz",
        "outputId": "ebcefd46-a951-4d91-aa02-973cfbc9a843"
      },
      "execution_count": null,
      "outputs": [
        {
          "output_type": "stream",
          "name": "stdout",
          "text": [
            "Model: \"sequential\"\n",
            "_________________________________________________________________\n",
            " Layer (type)                Output Shape              Param #   \n",
            "=================================================================\n",
            " conv2d (Conv2D)             (None, 26, 26, 32)        320       \n",
            "                                                                 \n",
            " conv2d_1 (Conv2D)           (None, 24, 24, 64)        18496     \n",
            "                                                                 \n",
            " max_pooling2d (MaxPooling2D  (None, 12, 12, 64)       0         \n",
            " )                                                               \n",
            "                                                                 \n",
            " conv2d_2 (Conv2D)           (None, 10, 10, 128)       73856     \n",
            "                                                                 \n",
            " conv2d_3 (Conv2D)           (None, 8, 8, 64)          73792     \n",
            "                                                                 \n",
            " flatten (Flatten)           (None, 4096)              0         \n",
            "                                                                 \n",
            " dense (Dense)               (None, 256)               1048832   \n",
            "                                                                 \n",
            " dropout (Dropout)           (None, 256)               0         \n",
            "                                                                 \n",
            " dense_1 (Dense)             (None, 128)               32896     \n",
            "                                                                 \n",
            " dropout_1 (Dropout)         (None, 128)               0         \n",
            "                                                                 \n",
            " dense_2 (Dense)             (None, 10)                1290      \n",
            "                                                                 \n",
            "=================================================================\n",
            "Total params: 1,249,482\n",
            "Trainable params: 1,249,482\n",
            "Non-trainable params: 0\n",
            "_________________________________________________________________\n",
            "None\n"
          ]
        }
      ]
    },
    {
      "cell_type": "code",
      "source": [
        "import time"
      ],
      "metadata": {
        "id": "DWNsY8cvWt9H"
      },
      "execution_count": null,
      "outputs": []
    },
    {
      "cell_type": "code",
      "source": [
        "start_time1 = time.time()\n",
        "batch_size1 = 32\n",
        "epochs = 10\n",
        "history1 = model.fit(x_train,y_train,batch_size=batch_size1,epochs=epochs,validation_data=(x_test,y_test), verbose = 1) \n",
        "score1 = model.evaluate(x_test, y_test)\n",
        "time1 = (time.time() - start_time1)\n",
        "print(\"test loss:\", score1[0])\n",
        "print(\"test acc:\", score1[1])\n",
        "print(time1)"
      ],
      "metadata": {
        "colab": {
          "base_uri": "https://localhost:8080/"
        },
        "id": "uZqgFrUSQMMz",
        "outputId": "f765fa0e-619e-4bed-d002-20a48b826f36"
      },
      "execution_count": null,
      "outputs": [
        {
          "output_type": "stream",
          "name": "stdout",
          "text": [
            "Epoch 1/10\n",
            "1875/1875 [==============================] - 20s 9ms/step - loss: 0.0303 - accuracy: 0.9592 - val_loss: 0.0094 - val_accuracy: 0.9874\n",
            "Epoch 2/10\n",
            "1875/1875 [==============================] - 11s 6ms/step - loss: 0.0118 - accuracy: 0.9877 - val_loss: 0.0058 - val_accuracy: 0.9923\n",
            "Epoch 3/10\n",
            "1875/1875 [==============================] - 11s 6ms/step - loss: 0.0103 - accuracy: 0.9906 - val_loss: 0.0057 - val_accuracy: 0.9926\n",
            "Epoch 4/10\n",
            "1875/1875 [==============================] - 10s 6ms/step - loss: 0.0100 - accuracy: 0.9914 - val_loss: 0.0118 - val_accuracy: 0.9858\n",
            "Epoch 5/10\n",
            "1875/1875 [==============================] - 11s 6ms/step - loss: 0.0103 - accuracy: 0.9903 - val_loss: 0.0073 - val_accuracy: 0.9911\n",
            "Epoch 6/10\n",
            "1875/1875 [==============================] - 11s 6ms/step - loss: 0.0100 - accuracy: 0.9917 - val_loss: 0.0118 - val_accuracy: 0.9905\n",
            "Epoch 7/10\n",
            "1875/1875 [==============================] - 10s 5ms/step - loss: 0.0102 - accuracy: 0.9916 - val_loss: 0.0129 - val_accuracy: 0.9879\n",
            "Epoch 8/10\n",
            "1875/1875 [==============================] - 12s 6ms/step - loss: 0.0097 - accuracy: 0.9922 - val_loss: 0.0394 - val_accuracy: 0.9466\n",
            "Epoch 9/10\n",
            "1875/1875 [==============================] - 10s 5ms/step - loss: 0.0095 - accuracy: 0.9927 - val_loss: 0.0080 - val_accuracy: 0.9911\n",
            "Epoch 10/10\n",
            "1875/1875 [==============================] - 10s 5ms/step - loss: 0.0099 - accuracy: 0.9933 - val_loss: 0.0110 - val_accuracy: 0.9900\n",
            "313/313 [==============================] - 1s 3ms/step - loss: 0.0110 - accuracy: 0.9900\n",
            "test loss: 0.011014931835234165\n",
            "test acc: 0.9900000095367432\n",
            "144.51973152160645\n"
          ]
        }
      ]
    },
    {
      "cell_type": "code",
      "source": [
        "start_time2 = time.time()\n",
        "batch_size2 = 64\n",
        "epochs = 10\n",
        "history2 = model.fit(x_train,y_train,batch_size=batch_size2,epochs=epochs,validation_data=(x_test,y_test), verbose = 1) \n",
        "score2 = model.evaluate(x_test, y_test)\n",
        "time2 = (time.time() - start_time2)\n",
        "print(\"test loss:\", score2[0])\n",
        "print(\"test acc:\", score2[1])\n",
        "print(time2)"
      ],
      "metadata": {
        "colab": {
          "base_uri": "https://localhost:8080/"
        },
        "id": "pAaehF_dR4D9",
        "outputId": "51f6df86-f932-4d38-8889-f7f1951e1068"
      },
      "execution_count": null,
      "outputs": [
        {
          "output_type": "stream",
          "name": "stdout",
          "text": [
            "Epoch 1/10\n",
            "938/938 [==============================] - 8s 8ms/step - loss: 0.0070 - accuracy: 0.9949 - val_loss: 0.0088 - val_accuracy: 0.9936\n",
            "Epoch 2/10\n",
            "938/938 [==============================] - 7s 8ms/step - loss: 0.0066 - accuracy: 0.9954 - val_loss: 0.0091 - val_accuracy: 0.9925\n",
            "Epoch 3/10\n",
            "938/938 [==============================] - 7s 8ms/step - loss: 0.0065 - accuracy: 0.9957 - val_loss: 0.0116 - val_accuracy: 0.9930\n",
            "Epoch 4/10\n",
            "938/938 [==============================] - 7s 8ms/step - loss: 0.0064 - accuracy: 0.9960 - val_loss: 0.0084 - val_accuracy: 0.9927\n",
            "Epoch 5/10\n",
            "938/938 [==============================] - 7s 8ms/step - loss: 0.0060 - accuracy: 0.9963 - val_loss: 0.0092 - val_accuracy: 0.9939\n",
            "Epoch 6/10\n",
            "938/938 [==============================] - 8s 8ms/step - loss: 0.0056 - accuracy: 0.9965 - val_loss: 0.0087 - val_accuracy: 0.9934\n",
            "Epoch 7/10\n",
            "938/938 [==============================] - 8s 8ms/step - loss: 0.0058 - accuracy: 0.9964 - val_loss: 0.0125 - val_accuracy: 0.9925\n",
            "Epoch 8/10\n",
            "938/938 [==============================] - 7s 8ms/step - loss: 0.0059 - accuracy: 0.9966 - val_loss: 0.0162 - val_accuracy: 0.9923\n",
            "Epoch 9/10\n",
            "938/938 [==============================] - 7s 8ms/step - loss: 0.0055 - accuracy: 0.9968 - val_loss: 0.0177 - val_accuracy: 0.9910\n",
            "Epoch 10/10\n",
            "938/938 [==============================] - 7s 8ms/step - loss: 0.0056 - accuracy: 0.9973 - val_loss: 0.0114 - val_accuracy: 0.9924\n",
            "313/313 [==============================] - 1s 3ms/step - loss: 0.0114 - accuracy: 0.9924\n",
            "test loss: 0.01143849641084671\n",
            "test acc: 0.9923999905586243\n",
            "76.206702709198\n"
          ]
        }
      ]
    },
    {
      "cell_type": "code",
      "source": [
        "start_time3 = time.time()\n",
        "batch_size3 = 128\n",
        "epochs = 10\n",
        "history3 = model.fit(x_train,y_train,batch_size=batch_size3,epochs=epochs,validation_data=(x_test,y_test), verbose = 1) \n",
        "score3 = model.evaluate(x_test, y_test)\n",
        "time3 = (time.time() - start_time3)\n",
        "print(\"test loss:\", score3[0])\n",
        "print(\"test acc:\", score3[1])\n",
        "print(time3)"
      ],
      "metadata": {
        "colab": {
          "base_uri": "https://localhost:8080/"
        },
        "id": "lXySL4bLSU2b",
        "outputId": "f664e2b3-6e65-41f9-e9cb-f0d35f23c8cf"
      },
      "execution_count": null,
      "outputs": [
        {
          "output_type": "stream",
          "name": "stdout",
          "text": [
            "Epoch 1/10\n",
            "469/469 [==============================] - 6s 13ms/step - loss: 0.0037 - accuracy: 0.9978 - val_loss: 0.0085 - val_accuracy: 0.9941\n",
            "Epoch 2/10\n",
            "469/469 [==============================] - 6s 13ms/step - loss: 0.0031 - accuracy: 0.9987 - val_loss: 0.0129 - val_accuracy: 0.9919\n",
            "Epoch 3/10\n",
            "469/469 [==============================] - 6s 13ms/step - loss: 0.0031 - accuracy: 0.9985 - val_loss: 0.0151 - val_accuracy: 0.9935\n",
            "Epoch 4/10\n",
            "469/469 [==============================] - 6s 12ms/step - loss: 0.0030 - accuracy: 0.9989 - val_loss: 0.0252 - val_accuracy: 0.9885\n",
            "Epoch 5/10\n",
            "469/469 [==============================] - 6s 13ms/step - loss: 0.0033 - accuracy: 0.9985 - val_loss: 0.0116 - val_accuracy: 0.9916\n",
            "Epoch 6/10\n",
            "469/469 [==============================] - 6s 13ms/step - loss: 0.0030 - accuracy: 0.9987 - val_loss: 0.0297 - val_accuracy: 0.9901\n",
            "Epoch 7/10\n",
            "469/469 [==============================] - 6s 12ms/step - loss: 0.0030 - accuracy: 0.9990 - val_loss: 0.0154 - val_accuracy: 0.9931\n",
            "Epoch 8/10\n",
            "469/469 [==============================] - 6s 12ms/step - loss: 0.0032 - accuracy: 0.9990 - val_loss: 0.0146 - val_accuracy: 0.9936\n",
            "Epoch 9/10\n",
            "469/469 [==============================] - 6s 12ms/step - loss: 0.0031 - accuracy: 0.9989 - val_loss: 0.0131 - val_accuracy: 0.9935\n",
            "Epoch 10/10\n",
            "469/469 [==============================] - 6s 12ms/step - loss: 0.0029 - accuracy: 0.9991 - val_loss: 0.0224 - val_accuracy: 0.9934\n",
            "313/313 [==============================] - 1s 3ms/step - loss: 0.0224 - accuracy: 0.9934\n",
            "test loss: 0.02238011360168457\n",
            "test acc: 0.993399977684021\n",
            "83.52921748161316\n"
          ]
        }
      ]
    },
    {
      "cell_type": "code",
      "source": [
        "start_time4 = time.time()\n",
        "batch_size4 = 256\n",
        "epochs = 10\n",
        "history4 = model.fit(x_train,y_train,batch_size=batch_size4,epochs=epochs,validation_data=(x_test,y_test), verbose = 1) \n",
        "score4 = model.evaluate(x_test, y_test)\n",
        "time4 = (time.time() - start_time4)\n",
        "print(\"test loss:\", score4[0])\n",
        "print(\"test acc:\", score4[1])\n",
        "print(time4)"
      ],
      "metadata": {
        "colab": {
          "base_uri": "https://localhost:8080/"
        },
        "id": "wVLM5wAVSyou",
        "outputId": "0d8f9e4a-2154-401e-c61a-83f3f9d84513"
      },
      "execution_count": null,
      "outputs": [
        {
          "output_type": "stream",
          "name": "stdout",
          "text": [
            "Epoch 1/10\n",
            "235/235 [==============================] - 5s 19ms/step - loss: 0.0019 - accuracy: 0.9994 - val_loss: 0.0162 - val_accuracy: 0.9937\n",
            "Epoch 2/10\n",
            "235/235 [==============================] - 5s 19ms/step - loss: 0.0016 - accuracy: 0.9996 - val_loss: 0.0169 - val_accuracy: 0.9931\n",
            "Epoch 3/10\n",
            "235/235 [==============================] - 4s 19ms/step - loss: 0.0019 - accuracy: 0.9996 - val_loss: 0.0161 - val_accuracy: 0.9949\n",
            "Epoch 4/10\n",
            "235/235 [==============================] - 4s 19ms/step - loss: 0.0020 - accuracy: 0.9996 - val_loss: 0.0138 - val_accuracy: 0.9943\n",
            "Epoch 5/10\n",
            "235/235 [==============================] - 5s 19ms/step - loss: 0.0018 - accuracy: 0.9994 - val_loss: 0.0173 - val_accuracy: 0.9929\n",
            "Epoch 6/10\n",
            "235/235 [==============================] - 4s 19ms/step - loss: 0.0017 - accuracy: 0.9996 - val_loss: 0.0174 - val_accuracy: 0.9938\n",
            "Epoch 7/10\n",
            "235/235 [==============================] - 5s 19ms/step - loss: 0.0017 - accuracy: 0.9997 - val_loss: 0.0176 - val_accuracy: 0.9946\n",
            "Epoch 8/10\n",
            "235/235 [==============================] - 5s 20ms/step - loss: 0.0019 - accuracy: 0.9996 - val_loss: 0.0187 - val_accuracy: 0.9950\n",
            "Epoch 9/10\n",
            "235/235 [==============================] - 5s 20ms/step - loss: 0.0015 - accuracy: 0.9998 - val_loss: 0.0200 - val_accuracy: 0.9942\n",
            "Epoch 10/10\n",
            "235/235 [==============================] - 5s 19ms/step - loss: 0.0018 - accuracy: 0.9996 - val_loss: 0.0219 - val_accuracy: 0.9948\n",
            "313/313 [==============================] - 1s 3ms/step - loss: 0.0219 - accuracy: 0.9948\n",
            "test loss: 0.021903105080127716\n",
            "test acc: 0.9947999715805054\n",
            "47.70208168029785\n"
          ]
        }
      ]
    },
    {
      "cell_type": "code",
      "source": [
        "start_time5 = time.time()\n",
        "batch_size5 = 512\n",
        "epochs = 10\n",
        "history5 = model.fit(x_train,y_train,batch_size=batch_size5,epochs=epochs,validation_data=(x_test,y_test), verbose = 1) \n",
        "score5 = model.evaluate(x_test, y_test)\n",
        "time5 = (time.time() - start_time5)\n",
        "print(\"test loss:\", score5[0])\n",
        "print(\"test acc:\", score5[1])\n",
        "\n",
        "print(time5)"
      ],
      "metadata": {
        "colab": {
          "base_uri": "https://localhost:8080/"
        },
        "id": "yEWQzZbaS1jr",
        "outputId": "c5b569f1-0c38-4e3a-e9c3-bd758c0c0add"
      },
      "execution_count": null,
      "outputs": [
        {
          "output_type": "stream",
          "name": "stdout",
          "text": [
            "Epoch 1/10\n",
            "118/118 [==============================] - 5s 36ms/step - loss: 9.8992e-04 - accuracy: 0.9998 - val_loss: 0.0165 - val_accuracy: 0.9953\n",
            "Epoch 2/10\n",
            "118/118 [==============================] - 4s 35ms/step - loss: 9.9183e-04 - accuracy: 0.9998 - val_loss: 0.0179 - val_accuracy: 0.9946\n",
            "Epoch 3/10\n",
            "118/118 [==============================] - 4s 34ms/step - loss: 0.0012 - accuracy: 0.9999 - val_loss: 0.0179 - val_accuracy: 0.9952\n",
            "Epoch 4/10\n",
            "118/118 [==============================] - 4s 35ms/step - loss: 0.0010 - accuracy: 0.9999 - val_loss: 0.0183 - val_accuracy: 0.9951\n",
            "Epoch 5/10\n",
            "118/118 [==============================] - 4s 34ms/step - loss: 0.0010 - accuracy: 0.9998 - val_loss: 0.0199 - val_accuracy: 0.9937\n",
            "Epoch 6/10\n",
            "118/118 [==============================] - 4s 35ms/step - loss: 9.2939e-04 - accuracy: 0.9999 - val_loss: 0.0235 - val_accuracy: 0.9951\n",
            "Epoch 7/10\n",
            "118/118 [==============================] - 4s 35ms/step - loss: 8.9670e-04 - accuracy: 0.9999 - val_loss: 0.0168 - val_accuracy: 0.9949\n",
            "Epoch 8/10\n",
            "118/118 [==============================] - 4s 34ms/step - loss: 9.2216e-04 - accuracy: 0.9999 - val_loss: 0.0187 - val_accuracy: 0.9948\n",
            "Epoch 9/10\n",
            "118/118 [==============================] - 4s 35ms/step - loss: 9.4671e-04 - accuracy: 0.9999 - val_loss: 0.0169 - val_accuracy: 0.9944\n",
            "Epoch 10/10\n",
            "118/118 [==============================] - 4s 36ms/step - loss: 9.1554e-04 - accuracy: 0.9999 - val_loss: 0.0238 - val_accuracy: 0.9935\n",
            "313/313 [==============================] - 1s 4ms/step - loss: 0.0238 - accuracy: 0.9935\n",
            "test loss: 0.02382613904774189\n",
            "test acc: 0.9934999942779541\n",
            "83.46941447257996\n"
          ]
        }
      ]
    },
    {
      "cell_type": "code",
      "source": [
        "start_time6 = time.time()\n",
        "batch_size6 = 1024\n",
        "epochs = 10\n",
        "history6 = model.fit(x_train,y_train,batch_size=batch_size6,epochs=epochs,validation_data=(x_test,y_test), verbose = 1) \n",
        "score6 = model.evaluate(x_test, y_test)\n",
        "time6 = (time.time() - start_time6)\n",
        "print(\"test loss:\", score6[0])\n",
        "print(\"test acc:\", score6[1])\n",
        "\n",
        "print(time6)"
      ],
      "metadata": {
        "colab": {
          "base_uri": "https://localhost:8080/"
        },
        "id": "LCV2fO4PS2w2",
        "outputId": "41ffda1a-833f-4618-b834-549bc8d115e7"
      },
      "execution_count": null,
      "outputs": [
        {
          "output_type": "stream",
          "name": "stdout",
          "text": [
            "Epoch 1/10\n",
            "59/59 [==============================] - 6s 86ms/step - loss: 5.5764e-04 - accuracy: 0.9999 - val_loss: 0.0215 - val_accuracy: 0.9949\n",
            "Epoch 2/10\n",
            "59/59 [==============================] - 4s 67ms/step - loss: 7.0043e-04 - accuracy: 1.0000 - val_loss: 0.0239 - val_accuracy: 0.9935\n",
            "Epoch 3/10\n",
            "59/59 [==============================] - 4s 67ms/step - loss: 6.6464e-04 - accuracy: 0.9999 - val_loss: 0.0245 - val_accuracy: 0.9935\n",
            "Epoch 4/10\n",
            "59/59 [==============================] - 4s 66ms/step - loss: 5.7288e-04 - accuracy: 1.0000 - val_loss: 0.0231 - val_accuracy: 0.9932\n",
            "Epoch 5/10\n",
            "59/59 [==============================] - 4s 67ms/step - loss: 4.8152e-04 - accuracy: 1.0000 - val_loss: 0.0181 - val_accuracy: 0.9947\n",
            "Epoch 6/10\n",
            "59/59 [==============================] - 4s 66ms/step - loss: 5.3294e-04 - accuracy: 0.9999 - val_loss: 0.0186 - val_accuracy: 0.9937\n",
            "Epoch 7/10\n",
            "59/59 [==============================] - 4s 66ms/step - loss: 3.6720e-04 - accuracy: 1.0000 - val_loss: 0.0169 - val_accuracy: 0.9945\n",
            "Epoch 8/10\n",
            "59/59 [==============================] - 4s 66ms/step - loss: 5.0254e-04 - accuracy: 0.9999 - val_loss: 0.0212 - val_accuracy: 0.9944\n",
            "Epoch 9/10\n",
            "59/59 [==============================] - 4s 67ms/step - loss: 6.4239e-04 - accuracy: 0.9999 - val_loss: 0.0181 - val_accuracy: 0.9948\n",
            "Epoch 10/10\n",
            "59/59 [==============================] - 4s 66ms/step - loss: 4.6228e-04 - accuracy: 0.9999 - val_loss: 0.0254 - val_accuracy: 0.9937\n",
            "313/313 [==============================] - 2s 5ms/step - loss: 0.0254 - accuracy: 0.9937\n",
            "test loss: 0.025387078523635864\n",
            "test acc: 0.9937000274658203\n",
            "83.76378583908081\n"
          ]
        }
      ]
    },
    {
      "cell_type": "code",
      "source": [
        "scores = [score1[1], score2[1], score3[1], score4[1], score5[1], score6[1]]\n",
        "times = [time1, time2, time3, time4, time5, time6]\n",
        "batch = [batch_size1, batch_size2, batch_size3, batch_size4, batch_size5, batch_size6]\n",
        "labels = [\"Batch Size 1\", \"Batch Size 2\", \"Batch Size 3\", \"Batch Size 4\", \"Batch Size 5\", \"Batch Size 6\"]\n",
        "colors = np.array([\"red\",\"green\",\"blue\",\"yellow\",\"pink\",\"black\",\"orange\",\"purple\",\"beige\",\"brown\",\"gray\",\"cyan\",\"magenta\"])"
      ],
      "metadata": {
        "id": "XfYliEHyZLBr"
      },
      "execution_count": null,
      "outputs": []
    },
    {
      "cell_type": "code",
      "source": [
        "%matplotlib inline\n",
        "import matplotlib.pyplot as plt\n",
        "plt.style.use('seaborn-whitegrid')\n",
        "import numpy as np"
      ],
      "metadata": {
        "id": "9TcgEIzAaOSI"
      },
      "execution_count": null,
      "outputs": []
    },
    {
      "cell_type": "code",
      "source": [
        "plt.scatter(scores[0], times[0], alpha=1, label= labels[0],  c=colors[0])\n",
        "plt.scatter(scores[1], times[1], alpha=1, label= labels[1],  c=colors[1])\n",
        "plt.scatter(scores[2], times[2], alpha=1, label= labels[2],  c=colors[2])\n",
        "plt.scatter(scores[3], times[3], alpha=1, label= labels[3],  c=colors[3])\n",
        "plt.scatter(scores[4], times[4], alpha=1, label= labels[4],  c=colors[4])\n",
        "plt.scatter(scores[5], times[5], alpha=1, label= labels[5],  c=colors[5])\n",
        "plt.xlabel(\"Scores\")\n",
        "plt.ylabel(\"Times\")\n",
        "plt.legend(loc='center left', bbox_to_anchor=(1, 0.5))\n",
        "plt.show()"
      ],
      "metadata": {
        "colab": {
          "base_uri": "https://localhost:8080/",
          "height": 276
        },
        "id": "0YXda99riywq",
        "outputId": "72ea8468-da93-4b85-81d8-512d456a18d8"
      },
      "execution_count": null,
      "outputs": [
        {
          "output_type": "display_data",
          "data": {
            "text/plain": [
              "<Figure size 432x288 with 1 Axes>"
            ],
            "image/png": "[encoded data removed]"
          },
          "metadata": {}
        }
      ]
    }
  ]
}